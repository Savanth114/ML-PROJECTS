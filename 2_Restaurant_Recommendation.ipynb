{
  "nbformat": 4,
  "nbformat_minor": 0,
  "metadata": {
    "colab": {
      "provenance": [],
      "authorship_tag": "ABX9TyNLvjUyiOy5erSuxQN7STZZ",
      "include_colab_link": true
    },
    "kernelspec": {
      "name": "python3",
      "display_name": "Python 3"
    },
    "language_info": {
      "name": "python"
    }
  },
  "cells": [
    {
      "cell_type": "markdown",
      "metadata": {
        "id": "view-in-github",
        "colab_type": "text"
      },
      "source": [
        "<a href=\"https://colab.research.google.com/github/Savanth114/ML-PROJECTS/blob/main/2_Restaurant_Recommendation.ipynb\" target=\"_parent\"><img src=\"https://colab.research.google.com/assets/colab-badge.svg\" alt=\"Open In Colab\"/></a>"
      ]
    },
    {
      "cell_type": "markdown",
      "source": [
        "# Task 2: Restaurant Recommendation"
      ],
      "metadata": {
        "id": "46ZkjPAOAVTc"
      }
    },
    {
      "cell_type": "markdown",
      "source": [
        "**STEP-1 :** Preprocess the dataset by handling missing\n",
        "values and encoding categorical variables."
      ],
      "metadata": {
        "id": "0ZIXgZxgAVRD"
      }
    },
    {
      "cell_type": "code",
      "execution_count": null,
      "metadata": {
        "colab": {
          "base_uri": "https://localhost:8080/"
        },
        "id": "r33MqG5QTR8J",
        "outputId": "79b285f2-b9a9-4c9f-b76a-67cceec3147a"
      },
      "outputs": [
        {
          "output_type": "stream",
          "name": "stdout",
          "text": [
            "Dataset shape: (9551, 21)\n",
            "\n",
            "Missing Values Before Processing:\n",
            " Restaurant ID           0\n",
            "Restaurant Name         0\n",
            "Country Code            0\n",
            "City                    0\n",
            "Address                 0\n",
            "Locality                0\n",
            "Locality Verbose        0\n",
            "Longitude               0\n",
            "Latitude                0\n",
            "Cuisines                9\n",
            "Average Cost for two    0\n",
            "Currency                0\n",
            "Has Table booking       0\n",
            "Has Online delivery     0\n",
            "Is delivering now       0\n",
            "Switch to order menu    0\n",
            "Price range             0\n",
            "Aggregate rating        0\n",
            "Rating color            0\n",
            "Rating text             0\n",
            "Votes                   0\n",
            "dtype: int64\n",
            "\n",
            "Missing Values After Processing:\n",
            " Restaurant ID           0\n",
            "Restaurant Name         0\n",
            "Country Code            0\n",
            "City                    0\n",
            "Address                 0\n",
            "Locality                0\n",
            "Locality Verbose        0\n",
            "Longitude               0\n",
            "Latitude                0\n",
            "Cuisines                0\n",
            "Average Cost for two    0\n",
            "Currency                0\n",
            "Has Table booking       0\n",
            "Has Online delivery     0\n",
            "Is delivering now       0\n",
            "Switch to order menu    0\n",
            "Price range             0\n",
            "Aggregate rating        0\n",
            "Rating color            0\n",
            "Rating text             0\n",
            "Votes                   0\n",
            "dtype: int64\n"
          ]
        }
      ],
      "source": [
        "import pandas as pd\n",
        "from sklearn.preprocessing import LabelEncoder\n",
        "\n",
        "df = pd.read_csv(\"/content/Dataset.csv\")\n",
        "\n",
        "print(\"Dataset shape:\", df.shape)\n",
        "print(\"\\nMissing Values Before Processing:\\n\", df.isnull().sum())\n",
        "\n",
        "num_cols = df.select_dtypes(include=['int64', 'float64']).columns\n",
        "df[num_cols] = df[num_cols].fillna(df[num_cols].median())\n",
        "\n",
        "cat_cols = df.select_dtypes(include=['object']).columns\n",
        "for col in cat_cols:\n",
        "    df[col] = df[col].fillna(df[col].mode()[0])\n",
        "\n",
        "df['Cuisines'] = df['Cuisines'].str.lower().str.strip()\n",
        "df['City'] = df['City'].str.lower().str.strip()\n",
        "df['Rating text'] = df['Rating text'].str.lower().str.strip()\n",
        "\n",
        "df['Currency'] = df['Currency'].astype(str).str.strip().str.upper()\n",
        "\n",
        "encode_cols = [col for col in cat_cols if col not in ['Restaurant Name', 'Address', 'Cuisines', 'City', 'Currency']]\n",
        "\n",
        "label_enc = LabelEncoder()\n",
        "for col in encode_cols:\n",
        "    df[col] = label_enc.fit_transform(df[col])\n",
        "\n",
        "print(\"\\nMissing Values After Processing:\\n\", df.isnull().sum())"
      ]
    },
    {
      "cell_type": "markdown",
      "source": [
        "**STEP-2 :** Determine the criteria for restaurant\n",
        "recommendations (e.g., cuisine preference,\n",
        "price range)."
      ],
      "metadata": {
        "id": "5X8S6_0PfYs2"
      }
    },
    {
      "cell_type": "code",
      "source": [
        "def get_user_preferences(df):\n",
        "    print(\" Please enter your restaurant preferences:\\n\")\n",
        "\n",
        "    cuisine = input(\"\\nEnter your preferred cuisine (e.g., Italian, Chinese): \").strip().lower()\n",
        "    cuisine_list = [c.strip() for c in cuisine.split(',') if c.strip()]\n",
        "\n",
        "    while True:\n",
        "        try:\n",
        "            max_price_range = int(input(\"Enter your max price range (1 to 4): \"))\n",
        "            if max_price_range in [1, 2, 3, 4]:\n",
        "                break\n",
        "            else:\n",
        "                print(\"Please enter a number between 1 and 4.\")\n",
        "        except ValueError:\n",
        "            print(\"Invalid input. Enter a valid integer between 1 and 4.\")\n",
        "\n",
        "    while True:\n",
        "        try:\n",
        "            min_rating = float(input(\"Enter your minimum acceptable rating (e.g., 3.5): \"))\n",
        "            if 0 <= min_rating <= 5:\n",
        "                break\n",
        "            else:\n",
        "                print(\"Enter a rating between 0 and 5.\")\n",
        "        except ValueError:\n",
        "            print(\"Invalid input. Enter a number like 4.0\")\n",
        "\n",
        "    online_delivery = input(\"Require online delivery? (yes/no): \").strip().lower()\n",
        "    while online_delivery not in ['yes', 'no']:\n",
        "        online_delivery = input(\"Please enter 'yes' or 'no': \").strip().lower()\n",
        "\n",
        "    available_currencies = df['Currency'].dropna().unique()\n",
        "    currency_map = {curr.upper(): curr for curr in available_currencies}  # normalized lookup\n",
        "    print(\"\\n Available Currencies:\")\n",
        "    print(\", \".join(sorted(currency_map.keys())))\n",
        "\n",
        "    while True:\n",
        "        currency_input = input(\"Enter your preferred currency (as shown above): \").strip().upper()\n",
        "        if currency_input in currency_map:\n",
        "            currency = currency_map[currency_input]\n",
        "            break\n",
        "        else:\n",
        "            print(\"Please choose from the listed currency codes.\")\n",
        "\n",
        "    city = input(\"Enter your preferred city (optional): \").strip().lower()\n",
        "\n",
        "    return {\n",
        "        \"cuisine\": cuisine,\n",
        "        \"max_price\": max_price_range,\n",
        "        \"min_rating\": min_rating,\n",
        "        \"online_delivery\": online_delivery,\n",
        "        \"city\": city.lower().strip() if city.strip() else \"any\",\n",
        "        \"currency\": currency\n",
        "    }\n",
        "\n",
        "user_preferences = get_user_preferences(df)\n",
        "\n",
        "for key, value in user_preferences.items():\n",
        "    print(f\"{key.capitalize()}: {value}\")"
      ],
      "metadata": {
        "colab": {
          "base_uri": "https://localhost:8080/"
        },
        "id": "aiJ2iMiy96Cp",
        "outputId": "236a5b00-bed8-4a2c-eaeb-a1184b7efda4"
      },
      "execution_count": null,
      "outputs": [
        {
          "output_type": "stream",
          "name": "stdout",
          "text": [
            " Please enter your restaurant preferences:\n",
            "\n",
            "\n",
            "Enter your preferred cuisine (e.g., Italian, Chinese): japanese\n",
            "Enter your max price range (1 to 4): 3\n",
            "Enter your minimum acceptable rating (e.g., 3.5): 4.0\n",
            "Require online delivery? (yes/no): no\n",
            "\n",
            " Available Currencies:\n",
            "BOTSWANA PULA(P), BRAZILIAN REAL(R$), DOLLAR($), EMIRATI DIRAM(AED), INDIAN RUPEES(RS.), INDONESIAN RUPIAH(IDR), NEWZEALAND($), POUNDS(��), QATARI RIAL(QR), RAND(R), SRI LANKAN RUPEE(LKR), TURKISH LIRA(TL)\n",
            "Enter your preferred currency (as shown above): INDIAN RUPEES(RS.)\n",
            "Enter your preferred city (optional): makati city\n",
            "Cuisine: japanese\n",
            "Max_price: 3\n",
            "Min_rating: 4.0\n",
            "Online_delivery: no\n",
            "City: makati city\n",
            "Currency: INDIAN RUPEES(RS.)\n"
          ]
        }
      ]
    },
    {
      "cell_type": "markdown",
      "source": [
        "**STEP-3 :** Implement a content-based filtering\n",
        "approach where users are recommended\n",
        "restaurants similar to their preferred criteria."
      ],
      "metadata": {
        "id": "jqLDhQfyjkRJ"
      }
    },
    {
      "cell_type": "code",
      "source": [
        "from sklearn.feature_extraction.text import TfidfVectorizer\n",
        "from sklearn.metrics.pairwise import cosine_similarity\n",
        "import pandas as pd\n",
        "\n",
        "def filter_restaurants(df, preferences):\n",
        "    filtered = df.copy()\n",
        "\n",
        "    if preferences['cuisine']:\n",
        "        filtered = filtered[filtered['Cuisines'].str.contains(preferences['cuisine'], case=False, na=False)]\n",
        "\n",
        "    if preferences['max_price']:\n",
        "        filtered = filtered[filtered['Price range'] <= preferences['max_price']]\n",
        "\n",
        "    if preferences['min_rating']:\n",
        "        filtered = filtered[filtered['Aggregate rating'] >= preferences['min_rating']]\n",
        "\n",
        "    if 'Has Online delivery' in filtered.columns:\n",
        "        filtered['Has Online delivery'] = filtered['Has Online delivery'].astype(int)\n",
        "        if preferences['online_delivery'] == 'yes':\n",
        "            filtered = filtered[filtered['Has Online delivery'] == 1]\n",
        "        elif preferences['online_delivery'] == 'no':\n",
        "            filtered = filtered[filtered['Has Online delivery'] == 0]\n",
        "\n",
        "    if preferences['city'] != \"any\":\n",
        "        filtered = filtered[filtered['City'].str.contains(preferences['city'], case=False, na=False)]\n",
        "\n",
        "    if preferences['currency']:\n",
        "        filtered = filtered[filtered['Currency'].str.lower() == preferences['currency'].lower()]\n",
        "\n",
        "    return filtered\n",
        "\n",
        "def rank_restaurants(filtered_df, preferences):\n",
        "    if filtered_df.empty:\n",
        "        return pd.DataFrame()\n",
        "\n",
        "    cols_to_combine = ['Cuisines', 'City', 'Currency', 'Rating text']\n",
        "    for col in cols_to_combine:\n",
        "        if col in filtered_df.columns:\n",
        "            filtered_df[col] = filtered_df[col].astype(str).fillna('')\n",
        "\n",
        "    filtered_df['combined_features'] = filtered_df[cols_to_combine].agg(' '.join, axis=1)\n",
        "\n",
        "    tfidf = TfidfVectorizer(stop_words='english')\n",
        "    valid_features_df = filtered_df[filtered_df['combined_features'].str.strip() != ''].copy()\n",
        "\n",
        "    if valid_features_df.empty:\n",
        "        return pd.DataFrame()\n",
        "\n",
        "    tfidf_matrix = tfidf.fit_transform(valid_features_df['combined_features'])\n",
        "    user_query = f\"{preferences['cuisine']} {preferences['city']} {preferences['currency']} {preferences['min_rating']}\"\n",
        "    user_vector = tfidf.transform([user_query])\n",
        "\n",
        "    similarity_scores = cosine_similarity(user_vector, tfidf_matrix).flatten()\n",
        "    valid_features_df['similarity'] = similarity_scores\n",
        "\n",
        "    filtered_df = filtered_df.merge(valid_features_df[['similarity']], left_index=True, right_index=True, how='left')\n",
        "    filtered_df['similarity'] = filtered_df['similarity'].fillna(0)\n",
        "\n",
        "    ranked = filtered_df.sort_values(by='similarity', ascending=False).reset_index(drop=True)\n",
        "    ranked['similarity'] = ranked['similarity'].round(3)\n",
        "\n",
        "    return ranked[['Restaurant Name', 'Cuisines', 'City', 'Aggregate rating', 'Price range',\n",
        "                   'Currency', 'Has Online delivery', 'similarity']].head(10)\n",
        "\n",
        "try:\n",
        "    filtered_results = filter_restaurants(df, user_preferences)\n",
        "    final_recommendations = rank_restaurants(filtered_results, user_preferences)\n",
        "\n",
        "    if not final_recommendations.empty:\n",
        "        display(final_recommendations)\n",
        "    else:\n",
        "        print(\"No matching restaurants found.\")\n",
        "except NameError as e:\n",
        "    print(f\"Error: {e}\")\n",
        "except Exception as e:\n",
        "    print(f\"Unexpected error: {e}\")"
      ],
      "metadata": {
        "id": "QfK6yWePEEiU",
        "colab": {
          "base_uri": "https://localhost:8080/"
        },
        "outputId": "d9f26a55-cea8-4b4f-eab9-3650a9daa576"
      },
      "execution_count": null,
      "outputs": [
        {
          "output_type": "stream",
          "name": "stdout",
          "text": [
            "No matching restaurants found.\n"
          ]
        }
      ]
    },
    {
      "cell_type": "markdown",
      "source": [
        "**STEP-4 :** Test the recommendation system by\n",
        "providing sample user preferences and\n",
        "evaluating the quality of recommendations."
      ],
      "metadata": {
        "id": "OZjUXb5yDKsa"
      }
    },
    {
      "cell_type": "code",
      "source": [
        "print(\"\\n🔁 Let's test the restaurant recommendation system!\")\n",
        "\n",
        "user_preferences = get_user_preferences(df)\n",
        "filtered_df = filter_restaurants(df, user_preferences)\n",
        "recommended_df = rank_restaurants(filtered_df, user_preferences)\n",
        "\n",
        "if not recommended_df.empty:\n",
        "    print(\"\\n🍽️ Recommended Restaurants for You:\\n\")\n",
        "    for idx, row in recommended_df.iterrows():\n",
        "        print(f\"{idx+1}. {row['Restaurant Name']}\")\n",
        "        print(f\"Cuisine: {row['Cuisines']}\")\n",
        "        print(f\"City: {row['City'].title()}\")\n",
        "        print(f\"Rating: {row['Aggregate rating']}\")\n",
        "        print(f\"Price Range: {row['Price range']}\")\n",
        "        print(f\"Currency: {row['Currency']}\")\n",
        "        print(f\"Online Delivery: {'Yes' if row['Has Online delivery'] == 1 else 'No'}\")\n",
        "        print(\"-\" * 40)\n",
        "else:\n",
        "    print(\"\\n❌ No restaurants found matching your preferences. Try changing your filters.\")"
      ],
      "metadata": {
        "colab": {
          "base_uri": "https://localhost:8080/"
        },
        "id": "XmDd_5JcBHhI",
        "outputId": "3c03bb8d-eefe-43fa-b1ec-5a2cafc8c0e8"
      },
      "execution_count": null,
      "outputs": [
        {
          "output_type": "stream",
          "name": "stdout",
          "text": [
            "\n",
            "🔁 Let's test the restaurant recommendation system!\n",
            " Please enter your restaurant preferences:\n",
            "\n",
            "\n",
            "Enter your preferred cuisine (e.g., Italian, Chinese): japanese\n",
            "Enter your max price range (1 to 4): 3\n",
            "Enter your minimum acceptable rating (e.g., 3.5): 4.0\n",
            "Require online delivery? (yes/no): no\n",
            "\n",
            " Available Currencies:\n",
            "BOTSWANA PULA(P), BRAZILIAN REAL(R$), DOLLAR($), EMIRATI DIRAM(AED), INDIAN RUPEES(RS.), INDONESIAN RUPIAH(IDR), NEWZEALAND($), POUNDS(��), QATARI RIAL(QR), RAND(R), SRI LANKAN RUPEE(LKR), TURKISH LIRA(TL)\n",
            "Enter your preferred currency (as shown above): INDIAN RUPEES(RS.)\n",
            "Enter your preferred city (optional): makati city\n",
            "\n",
            "❌ No restaurants found matching your preferences. Try changing your filters.\n"
          ]
        }
      ]
    },
    {
      "cell_type": "code",
      "source": [
        "\n"
      ],
      "metadata": {
        "id": "DJ5hLQCHP1kD"
      },
      "execution_count": null,
      "outputs": []
    }
  ]
}